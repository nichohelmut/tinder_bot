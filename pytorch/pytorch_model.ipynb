{
 "cells": [
  {
   "cell_type": "code",
   "execution_count": 1,
   "metadata": {},
   "outputs": [
    {
     "name": "stderr",
     "output_type": "stream",
     "text": [
      "  1%|          | 8/662 [00:00<00:08, 74.13it/s]"
     ]
    },
    {
     "name": "stdout",
     "output_type": "stream",
     "text": [
      "../images/like_images\n"
     ]
    },
    {
     "name": "stderr",
     "output_type": "stream",
     "text": [
      "100%|██████████| 662/662 [00:07<00:00, 87.89it/s]\n",
      "  2%|▏         | 9/590 [00:00<00:06, 83.99it/s]"
     ]
    },
    {
     "name": "stdout",
     "output_type": "stream",
     "text": [
      "../images/dislike_images\n"
     ]
    },
    {
     "name": "stderr",
     "output_type": "stream",
     "text": [
      "100%|██████████| 590/590 [00:06<00:00, 88.32it/s]\n",
      "/usr/local/lib/python3.8/site-packages/numpy/core/_asarray.py:136: VisibleDeprecationWarning: Creating an ndarray from ragged nested sequences (which is a list-or-tuple of lists-or-tuples-or ndarrays with different lengths or shapes) is deprecated. If you meant to do this, you must specify 'dtype=object' when creating the ndarray\n",
      "  return array(a, dtype, copy=False, order=order, subok=True)\n"
     ]
    },
    {
     "name": "stdout",
     "output_type": "stream",
     "text": [
      "Likes: 662\n",
      "Dislikes: 590\n"
     ]
    }
   ],
   "source": [
    "import os\n",
    "import cv2\n",
    "import numpy as np\n",
    "from tqdm import tqdm\n",
    "\n",
    "REBUILD_DATA = True\n",
    "\n",
    "\n",
    "class LikesVSDislikes():\n",
    "    IMG_SIZE = 50\n",
    "    LIKES = \"../images/like_images\"\n",
    "    DISLIKES = \"../images/dislike_images\"\n",
    "    LABELS = {LIKES: 0, DISLIKES: 1}\n",
    "\n",
    "    training_data = []\n",
    "\n",
    "    likecount = 0\n",
    "    dislikecount = 0\n",
    "\n",
    "    def make_training_data(self):\n",
    "        for label in self.LABELS:\n",
    "            print(label)\n",
    "            for f in tqdm(os.listdir(label)):\n",
    "                try:\n",
    "                    path = os.path.join(label, f)\n",
    "                    img = cv2.imread(path, cv2.IMREAD_GRAYSCALE)\n",
    "                    img = cv2.resize(img, (self.IMG_SIZE, self.IMG_SIZE))\n",
    "                    self.training_data.append([np.array(img), np.eye(2)[self.LABELS[label]]])\n",
    "\n",
    "                    if label == self.LIKES:\n",
    "                        self.likecount += 1\n",
    "                    elif label == self.DISLIKES:\n",
    "                        self.dislikecount += 1\n",
    "                except Exception as e:\n",
    "                    print(str(e))\n",
    "                    pass\n",
    "        np.random.shuffle(self.training_data)\n",
    "        np.save(\"training_data.npy\", self.training_data)\n",
    "        print(\"Likes:\", self.likecount)\n",
    "        print(\"Dislikes:\", self.dislikecount)\n",
    "\n",
    "\n",
    "if REBUILD_DATA:\n",
    "    likevsdislike = LikesVSDislikes()\n",
    "    likevsdislike.make_training_data()\n",
    "\n",
    "training_data = np.load(\"training_data.npy\", allow_pickle=True)"
   ]
  },
  {
   "cell_type": "code",
   "execution_count": 2,
   "metadata": {},
   "outputs": [
    {
     "name": "stdout",
     "output_type": "stream",
     "text": [
      "torch.Size([128, 2, 2])\n"
     ]
    }
   ],
   "source": [
    "import torch\n",
    "import torch.nn as nn\n",
    "import torch.nn.functional as F\n",
    "\n",
    "class Net(nn.Module):\n",
    "    def __init__(self):\n",
    "        super().__init__()\n",
    "        self.conv1 = nn.Conv2d(1, 32, 5)\n",
    "        self.conv2 = nn.Conv2d(32, 64, 5)\n",
    "        self.conv3 = nn.Conv2d(64, 128, 5)\n",
    "        \n",
    "        x = torch.randn(50,50).view(-1,1,50,50)\n",
    "        self._to_linear = None\n",
    "        self.convs(x)\n",
    "        \n",
    "        self.fc1 = nn.Linear(self._to_linear,512)\n",
    "        self.fc2 = nn.Linear(512, 2)\n",
    "    \n",
    "        \n",
    "    def convs(self, x):\n",
    "        x = F.max_pool2d(F.relu(self.conv1(x)), (2,2))\n",
    "        x = F.max_pool2d(F.relu(self.conv2(x)), (2,2))\n",
    "        x = F.max_pool2d(F.relu(self.conv3(x)), (2,2))\n",
    "        \n",
    "        print(x[0].shape)\n",
    "        \n",
    "        if self._to_linear is None:\n",
    "            self._to_linear = x[0].shape[0]*x[0].shape[1]*x[0].shape[2]\n",
    "        return x\n",
    "            \n",
    "    def forward(self, x):\n",
    "        x = self.convs(x)\n",
    "        x = x.view(-1, self._to_linear)\n",
    "        x = F.relu(self.fc1(x))\n",
    "        x = self.fc2(x)\n",
    "        return F.softmax(x, dim=1)\n",
    "    \n",
    "net = Net()"
   ]
  },
  {
   "cell_type": "code",
   "execution_count": 3,
   "metadata": {},
   "outputs": [],
   "source": [
    "import torch.optim as optim\n",
    "\n",
    "optimizer = optim.Adam(net.parameters(), lr = .001)\n",
    "loss_function = nn.MSELoss()"
   ]
  },
  {
   "cell_type": "code",
   "execution_count": 4,
   "metadata": {},
   "outputs": [],
   "source": [
    "X = torch.Tensor([i[0] for i in training_data]).view(-1, 50, 50)\n",
    "X = X/255.0\n",
    "y = torch.Tensor([i[1] for i in training_data])"
   ]
  },
  {
   "cell_type": "code",
   "execution_count": 5,
   "metadata": {},
   "outputs": [
    {
     "name": "stdout",
     "output_type": "stream",
     "text": [
      "313\n"
     ]
    }
   ],
   "source": [
    "VAL_PCT = .25\n",
    "val_size = int(len(X)*VAL_PCT)\n",
    "print(val_size)"
   ]
  },
  {
   "cell_type": "code",
   "execution_count": 6,
   "metadata": {},
   "outputs": [
    {
     "name": "stdout",
     "output_type": "stream",
     "text": [
      "939\n",
      "313\n"
     ]
    }
   ],
   "source": [
    "train_X = X[:-val_size]\n",
    "train_y = y[:-val_size]\n",
    "\n",
    "test_X = X[-val_size:]\n",
    "test_y = y[-val_size:]\n",
    "\n",
    "print(len(train_X))\n",
    "print(len(test_X))"
   ]
  },
  {
   "cell_type": "code",
   "execution_count": 7,
   "metadata": {},
   "outputs": [
    {
     "name": "stderr",
     "output_type": "stream",
     "text": [
      "  2%|▏         | 2/94 [00:00<00:04, 19.88it/s]"
     ]
    },
    {
     "name": "stdout",
     "output_type": "stream",
     "text": [
      "torch.Size([128, 2, 2])\n",
      "torch.Size([128, 2, 2])\n",
      "torch.Size([128, 2, 2])\n",
      "torch.Size([128, 2, 2])\n",
      "torch.Size([128, 2, 2])\n"
     ]
    },
    {
     "name": "stderr",
     "output_type": "stream",
     "text": [
      "  7%|▋         | 7/94 [00:00<00:04, 20.33it/s]"
     ]
    },
    {
     "name": "stdout",
     "output_type": "stream",
     "text": [
      "torch.Size([128, 2, 2])\n",
      "torch.Size([128, 2, 2])\n",
      "torch.Size([128, 2, 2])\n",
      "torch.Size([128, 2, 2])\n",
      "torch.Size([128, 2, 2])\n"
     ]
    },
    {
     "name": "stderr",
     "output_type": "stream",
     "text": [
      " 13%|█▎        | 12/94 [00:00<00:04, 20.27it/s]"
     ]
    },
    {
     "name": "stdout",
     "output_type": "stream",
     "text": [
      "torch.Size([128, 2, 2])\n",
      "torch.Size([128, 2, 2])\n",
      "torch.Size([128, 2, 2])\n",
      "torch.Size([128, 2, 2])\n",
      "torch.Size([128, 2, 2])\n"
     ]
    },
    {
     "name": "stderr",
     "output_type": "stream",
     "text": [
      " 19%|█▉        | 18/94 [00:00<00:03, 20.60it/s]"
     ]
    },
    {
     "name": "stdout",
     "output_type": "stream",
     "text": [
      "torch.Size([128, 2, 2])\n",
      "torch.Size([128, 2, 2])\n",
      "torch.Size([128, 2, 2])\n",
      "torch.Size([128, 2, 2])\n",
      "torch.Size([128, 2, 2])\n"
     ]
    },
    {
     "name": "stderr",
     "output_type": "stream",
     "text": [
      "\r",
      " 22%|██▏       | 21/94 [00:01<00:03, 20.61it/s]"
     ]
    },
    {
     "name": "stdout",
     "output_type": "stream",
     "text": [
      "torch.Size([128, 2, 2])\n",
      "torch.Size([128, 2, 2])\n",
      "torch.Size([128, 2, 2])\n",
      "torch.Size([128, 2, 2])\n"
     ]
    },
    {
     "name": "stderr",
     "output_type": "stream",
     "text": [
      "\r",
      " 26%|██▌       | 24/94 [00:01<00:03, 20.60it/s]"
     ]
    },
    {
     "name": "stdout",
     "output_type": "stream",
     "text": [
      "torch.Size([128, 2, 2])\n"
     ]
    },
    {
     "name": "stderr",
     "output_type": "stream",
     "text": [
      "\r",
      " 28%|██▊       | 26/94 [00:01<00:03, 20.30it/s]"
     ]
    },
    {
     "name": "stdout",
     "output_type": "stream",
     "text": [
      "torch.Size([128, 2, 2])\n",
      "torch.Size([128, 2, 2])\n",
      "torch.Size([128, 2, 2])\n",
      "torch.Size([128, 2, 2])\n"
     ]
    },
    {
     "name": "stderr",
     "output_type": "stream",
     "text": [
      "\r",
      " 31%|███       | 29/94 [00:01<00:03, 20.61it/s]"
     ]
    },
    {
     "name": "stdout",
     "output_type": "stream",
     "text": [
      "torch.Size([128, 2, 2])\n"
     ]
    },
    {
     "name": "stderr",
     "output_type": "stream",
     "text": [
      "\r",
      " 34%|███▍      | 32/94 [00:01<00:02, 20.68it/s]"
     ]
    },
    {
     "name": "stdout",
     "output_type": "stream",
     "text": [
      "torch.Size([128, 2, 2])\n",
      "torch.Size([128, 2, 2])\n",
      "torch.Size([128, 2, 2])\n",
      "torch.Size([128, 2, 2])\n",
      "torch.Size([128, 2, 2])\n"
     ]
    },
    {
     "name": "stderr",
     "output_type": "stream",
     "text": [
      " 40%|████      | 38/94 [00:01<00:02, 20.67it/s]"
     ]
    },
    {
     "name": "stdout",
     "output_type": "stream",
     "text": [
      "torch.Size([128, 2, 2])\n",
      "torch.Size([128, 2, 2])\n",
      "torch.Size([128, 2, 2])\n",
      "torch.Size([128, 2, 2])\n",
      "torch.Size([128, 2, 2])\n"
     ]
    },
    {
     "name": "stderr",
     "output_type": "stream",
     "text": [
      "\r",
      " 44%|████▎     | 41/94 [00:01<00:02, 20.92it/s]"
     ]
    },
    {
     "name": "stdout",
     "output_type": "stream",
     "text": [
      "torch.Size([128, 2, 2])\n",
      "torch.Size([128, 2, 2])\n",
      "torch.Size([128, 2, 2])\n",
      "torch.Size([128, 2, 2])\n"
     ]
    },
    {
     "name": "stderr",
     "output_type": "stream",
     "text": [
      "\r",
      " 47%|████▋     | 44/94 [00:02<00:02, 20.80it/s]"
     ]
    },
    {
     "name": "stdout",
     "output_type": "stream",
     "text": [
      "torch.Size([128, 2, 2])\n"
     ]
    },
    {
     "name": "stderr",
     "output_type": "stream",
     "text": [
      "\r",
      " 50%|█████     | 47/94 [00:02<00:02, 20.76it/s]"
     ]
    },
    {
     "name": "stdout",
     "output_type": "stream",
     "text": [
      "torch.Size([128, 2, 2])\n",
      "torch.Size([128, 2, 2])\n",
      "torch.Size([128, 2, 2])\n",
      "torch.Size([128, 2, 2])\n",
      "torch.Size([128, 2, 2])\n"
     ]
    },
    {
     "name": "stderr",
     "output_type": "stream",
     "text": [
      " 56%|█████▋    | 53/94 [00:02<00:01, 21.07it/s]"
     ]
    },
    {
     "name": "stdout",
     "output_type": "stream",
     "text": [
      "torch.Size([128, 2, 2])\n",
      "torch.Size([128, 2, 2])\n",
      "torch.Size([128, 2, 2])\n",
      "torch.Size([128, 2, 2])\n",
      "torch.Size([128, 2, 2])\n"
     ]
    },
    {
     "name": "stderr",
     "output_type": "stream",
     "text": [
      "\r",
      " 60%|█████▉    | 56/94 [00:02<00:01, 21.36it/s]"
     ]
    },
    {
     "name": "stdout",
     "output_type": "stream",
     "text": [
      "torch.Size([128, 2, 2])\n",
      "torch.Size([128, 2, 2])\n",
      "torch.Size([128, 2, 2])\n",
      "torch.Size([128, 2, 2])\n"
     ]
    },
    {
     "name": "stderr",
     "output_type": "stream",
     "text": [
      "\r",
      " 63%|██████▎   | 59/94 [00:02<00:01, 20.99it/s]"
     ]
    },
    {
     "name": "stdout",
     "output_type": "stream",
     "text": [
      "torch.Size([128, 2, 2])\n"
     ]
    },
    {
     "name": "stderr",
     "output_type": "stream",
     "text": [
      "\r",
      " 66%|██████▌   | 62/94 [00:02<00:01, 21.14it/s]"
     ]
    },
    {
     "name": "stdout",
     "output_type": "stream",
     "text": [
      "torch.Size([128, 2, 2])\n",
      "torch.Size([128, 2, 2])\n",
      "torch.Size([128, 2, 2])\n",
      "torch.Size([128, 2, 2])\n",
      "torch.Size([128, 2, 2])\n"
     ]
    },
    {
     "name": "stderr",
     "output_type": "stream",
     "text": [
      " 72%|███████▏  | 68/94 [00:03<00:01, 21.07it/s]"
     ]
    },
    {
     "name": "stdout",
     "output_type": "stream",
     "text": [
      "torch.Size([128, 2, 2])\n",
      "torch.Size([128, 2, 2])\n",
      "torch.Size([128, 2, 2])\n",
      "torch.Size([128, 2, 2])\n",
      "torch.Size([128, 2, 2])\n"
     ]
    },
    {
     "name": "stderr",
     "output_type": "stream",
     "text": [
      "\r",
      " 76%|███████▌  | 71/94 [00:03<00:01, 20.90it/s]"
     ]
    },
    {
     "name": "stdout",
     "output_type": "stream",
     "text": [
      "torch.Size([128, 2, 2])\n",
      "torch.Size([128, 2, 2])\n",
      "torch.Size([128, 2, 2])\n",
      "torch.Size([128, 2, 2])\n"
     ]
    },
    {
     "name": "stderr",
     "output_type": "stream",
     "text": [
      "\r",
      " 79%|███████▊  | 74/94 [00:03<00:00, 21.29it/s]"
     ]
    },
    {
     "name": "stdout",
     "output_type": "stream",
     "text": [
      "torch.Size([128, 2, 2])\n"
     ]
    },
    {
     "name": "stderr",
     "output_type": "stream",
     "text": [
      "\r",
      " 82%|████████▏ | 77/94 [00:03<00:00, 21.32it/s]"
     ]
    },
    {
     "name": "stdout",
     "output_type": "stream",
     "text": [
      "torch.Size([128, 2, 2])\n",
      "torch.Size([128, 2, 2])\n",
      "torch.Size([128, 2, 2])\n",
      "torch.Size([128, 2, 2])\n",
      "torch.Size([128, 2, 2])\n"
     ]
    },
    {
     "name": "stderr",
     "output_type": "stream",
     "text": [
      " 88%|████████▊ | 83/94 [00:03<00:00, 22.14it/s]"
     ]
    },
    {
     "name": "stdout",
     "output_type": "stream",
     "text": [
      "torch.Size([128, 2, 2])\n",
      "torch.Size([128, 2, 2])\n",
      "torch.Size([128, 2, 2])\n",
      "torch.Size([128, 2, 2])\n",
      "torch.Size([128, 2, 2])\n"
     ]
    },
    {
     "name": "stderr",
     "output_type": "stream",
     "text": [
      " 95%|█████████▍| 89/94 [00:04<00:00, 23.01it/s]"
     ]
    },
    {
     "name": "stdout",
     "output_type": "stream",
     "text": [
      "torch.Size([128, 2, 2])\n",
      "torch.Size([128, 2, 2])\n",
      "torch.Size([128, 2, 2])\n",
      "torch.Size([128, 2, 2])\n",
      "torch.Size([128, 2, 2])\n"
     ]
    },
    {
     "name": "stderr",
     "output_type": "stream",
     "text": [
      "100%|██████████| 94/94 [00:04<00:00, 21.38it/s]\n",
      "  0%|          | 0/94 [00:00<?, ?it/s]"
     ]
    },
    {
     "name": "stdout",
     "output_type": "stream",
     "text": [
      "torch.Size([128, 2, 2])\n",
      "torch.Size([128, 2, 2])\n",
      "torch.Size([128, 2, 2])\n",
      "torch.Size([128, 2, 2])\n",
      "torch.Size([128, 2, 2])\n"
     ]
    },
    {
     "name": "stderr",
     "output_type": "stream",
     "text": [
      "  6%|▋         | 6/94 [00:00<00:03, 25.55it/s]"
     ]
    },
    {
     "name": "stdout",
     "output_type": "stream",
     "text": [
      "torch.Size([128, 2, 2])\n",
      "torch.Size([128, 2, 2])\n",
      "torch.Size([128, 2, 2])\n",
      "torch.Size([128, 2, 2])\n",
      "torch.Size([128, 2, 2])\n",
      "torch.Size([128, 2, 2])\n"
     ]
    },
    {
     "name": "stderr",
     "output_type": "stream",
     "text": [
      " 13%|█▎        | 12/94 [00:00<00:03, 26.16it/s]"
     ]
    },
    {
     "name": "stdout",
     "output_type": "stream",
     "text": [
      "torch.Size([128, 2, 2])\n",
      "torch.Size([128, 2, 2])\n",
      "torch.Size([128, 2, 2])\n",
      "torch.Size([128, 2, 2])\n",
      "torch.Size([128, 2, 2])\n",
      "torch.Size([128, 2, 2])\n"
     ]
    },
    {
     "name": "stderr",
     "output_type": "stream",
     "text": [
      " 19%|█▉        | 18/94 [00:00<00:03, 24.57it/s]"
     ]
    },
    {
     "name": "stdout",
     "output_type": "stream",
     "text": [
      "torch.Size([128, 2, 2])\n",
      "torch.Size([128, 2, 2])\n",
      "torch.Size([128, 2, 2])\n",
      "torch.Size([128, 2, 2])\n",
      "torch.Size([128, 2, 2])\n"
     ]
    },
    {
     "name": "stderr",
     "output_type": "stream",
     "text": [
      "\r",
      " 22%|██▏       | 21/94 [00:00<00:03, 23.31it/s]"
     ]
    },
    {
     "name": "stdout",
     "output_type": "stream",
     "text": [
      "torch.Size([128, 2, 2])\n",
      "torch.Size([128, 2, 2])\n",
      "torch.Size([128, 2, 2])\n",
      "torch.Size([128, 2, 2])\n",
      "torch.Size([128, 2, 2])\n"
     ]
    },
    {
     "name": "stderr",
     "output_type": "stream",
     "text": [
      " 29%|██▊       | 27/94 [00:01<00:03, 21.67it/s]"
     ]
    },
    {
     "name": "stdout",
     "output_type": "stream",
     "text": [
      "torch.Size([128, 2, 2])\n",
      "torch.Size([128, 2, 2])\n",
      "torch.Size([128, 2, 2])\n",
      "torch.Size([128, 2, 2])\n",
      "torch.Size([128, 2, 2])\n"
     ]
    },
    {
     "name": "stderr",
     "output_type": "stream",
     "text": [
      " 35%|███▌      | 33/94 [00:01<00:02, 23.71it/s]"
     ]
    },
    {
     "name": "stdout",
     "output_type": "stream",
     "text": [
      "torch.Size([128, 2, 2])\n",
      "torch.Size([128, 2, 2])\n",
      "torch.Size([128, 2, 2])\n",
      "torch.Size([128, 2, 2])\n",
      "torch.Size([128, 2, 2])\n",
      "torch.Size([128, 2, 2])\n"
     ]
    },
    {
     "name": "stderr",
     "output_type": "stream",
     "text": [
      " 41%|████▏     | 39/94 [00:01<00:02, 24.06it/s]"
     ]
    },
    {
     "name": "stdout",
     "output_type": "stream",
     "text": [
      "torch.Size([128, 2, 2])\n",
      "torch.Size([128, 2, 2])\n",
      "torch.Size([128, 2, 2])\n",
      "torch.Size([128, 2, 2])\n",
      "torch.Size([128, 2, 2])\n"
     ]
    },
    {
     "name": "stderr",
     "output_type": "stream",
     "text": [
      "\r",
      " 45%|████▍     | 42/94 [00:01<00:02, 24.70it/s]"
     ]
    },
    {
     "name": "stdout",
     "output_type": "stream",
     "text": [
      "torch.Size([128, 2, 2])\n",
      "torch.Size([128, 2, 2])\n",
      "torch.Size([128, 2, 2])\n",
      "torch.Size([128, 2, 2])\n",
      "torch.Size([128, 2, 2])\n",
      "torch.Size([128, 2, 2])\n"
     ]
    },
    {
     "name": "stderr",
     "output_type": "stream",
     "text": [
      " 51%|█████     | 48/94 [00:01<00:01, 24.64it/s]"
     ]
    },
    {
     "name": "stdout",
     "output_type": "stream",
     "text": [
      "torch.Size([128, 2, 2])\n",
      "torch.Size([128, 2, 2])\n",
      "torch.Size([128, 2, 2])\n",
      "torch.Size([128, 2, 2])\n",
      "torch.Size([128, 2, 2])\n",
      "torch.Size([128, 2, 2])\n"
     ]
    },
    {
     "name": "stderr",
     "output_type": "stream",
     "text": [
      " 61%|██████    | 57/94 [00:02<00:01, 26.46it/s]"
     ]
    },
    {
     "name": "stdout",
     "output_type": "stream",
     "text": [
      "torch.Size([128, 2, 2])\n",
      "torch.Size([128, 2, 2])\n",
      "torch.Size([128, 2, 2])\n",
      "torch.Size([128, 2, 2])\n",
      "torch.Size([128, 2, 2])\n",
      "torch.Size([128, 2, 2])\n"
     ]
    },
    {
     "name": "stderr",
     "output_type": "stream",
     "text": [
      "\r",
      " 64%|██████▍   | 60/94 [00:02<00:01, 26.70it/s]"
     ]
    },
    {
     "name": "stdout",
     "output_type": "stream",
     "text": [
      "torch.Size([128, 2, 2])\n",
      "torch.Size([128, 2, 2])\n",
      "torch.Size([128, 2, 2])\n",
      "torch.Size([128, 2, 2])\n",
      "torch.Size([128, 2, 2])\n",
      "torch.Size([128, 2, 2])\n"
     ]
    },
    {
     "name": "stderr",
     "output_type": "stream",
     "text": [
      " 70%|███████   | 66/94 [00:02<00:01, 25.48it/s]"
     ]
    },
    {
     "name": "stdout",
     "output_type": "stream",
     "text": [
      "torch.Size([128, 2, 2])\n",
      "torch.Size([128, 2, 2])\n",
      "torch.Size([128, 2, 2])\n",
      "torch.Size([128, 2, 2])\n",
      "torch.Size([128, 2, 2])\n",
      "torch.Size([128, 2, 2])\n"
     ]
    },
    {
     "name": "stderr",
     "output_type": "stream",
     "text": [
      " 77%|███████▋  | 72/94 [00:02<00:00, 26.22it/s]"
     ]
    },
    {
     "name": "stdout",
     "output_type": "stream",
     "text": [
      "torch.Size([128, 2, 2])\n",
      "torch.Size([128, 2, 2])\n",
      "torch.Size([128, 2, 2])\n",
      "torch.Size([128, 2, 2])\n",
      "torch.Size([128, 2, 2])\n",
      "torch.Size([128, 2, 2])\n"
     ]
    },
    {
     "name": "stderr",
     "output_type": "stream",
     "text": [
      " 83%|████████▎ | 78/94 [00:03<00:00, 26.57it/s]"
     ]
    },
    {
     "name": "stdout",
     "output_type": "stream",
     "text": [
      "torch.Size([128, 2, 2])\n",
      "torch.Size([128, 2, 2])\n",
      "torch.Size([128, 2, 2])\n",
      "torch.Size([128, 2, 2])\n",
      "torch.Size([128, 2, 2])\n",
      "torch.Size([128, 2, 2])\n"
     ]
    },
    {
     "name": "stderr",
     "output_type": "stream",
     "text": [
      " 89%|████████▉ | 84/94 [00:03<00:00, 26.89it/s]"
     ]
    },
    {
     "name": "stdout",
     "output_type": "stream",
     "text": [
      "torch.Size([128, 2, 2])\n",
      "torch.Size([128, 2, 2])\n",
      "torch.Size([128, 2, 2])\n",
      "torch.Size([128, 2, 2])\n",
      "torch.Size([128, 2, 2])\n",
      "torch.Size([128, 2, 2])\n"
     ]
    },
    {
     "name": "stderr",
     "output_type": "stream",
     "text": [
      " 99%|█████████▉| 93/94 [00:03<00:00, 27.46it/s]"
     ]
    },
    {
     "name": "stdout",
     "output_type": "stream",
     "text": [
      "torch.Size([128, 2, 2])\n",
      "torch.Size([128, 2, 2])\n",
      "torch.Size([128, 2, 2])\n",
      "torch.Size([128, 2, 2])\n",
      "torch.Size([128, 2, 2])\n",
      "torch.Size([128, 2, 2])\n"
     ]
    },
    {
     "name": "stderr",
     "output_type": "stream",
     "text": [
      "100%|██████████| 94/94 [00:03<00:00, 25.51it/s]\n",
      "  3%|▎         | 3/94 [00:00<00:03, 27.10it/s]"
     ]
    },
    {
     "name": "stdout",
     "output_type": "stream",
     "text": [
      "torch.Size([128, 2, 2])\n",
      "torch.Size([128, 2, 2])\n",
      "torch.Size([128, 2, 2])\n",
      "torch.Size([128, 2, 2])\n",
      "torch.Size([128, 2, 2])\n",
      "torch.Size([128, 2, 2])\n"
     ]
    },
    {
     "name": "stderr",
     "output_type": "stream",
     "text": [
      " 10%|▉         | 9/94 [00:00<00:03, 27.24it/s]"
     ]
    },
    {
     "name": "stdout",
     "output_type": "stream",
     "text": [
      "torch.Size([128, 2, 2])\n",
      "torch.Size([128, 2, 2])\n",
      "torch.Size([128, 2, 2])\n",
      "torch.Size([128, 2, 2])\n",
      "torch.Size([128, 2, 2])\n",
      "torch.Size([128, 2, 2])\n"
     ]
    },
    {
     "name": "stderr",
     "output_type": "stream",
     "text": [
      " 16%|█▌        | 15/94 [00:00<00:02, 27.38it/s]"
     ]
    },
    {
     "name": "stdout",
     "output_type": "stream",
     "text": [
      "torch.Size([128, 2, 2])\n",
      "torch.Size([128, 2, 2])\n",
      "torch.Size([128, 2, 2])\n",
      "torch.Size([128, 2, 2])\n",
      "torch.Size([128, 2, 2])\n",
      "torch.Size([128, 2, 2])\n"
     ]
    },
    {
     "name": "stderr",
     "output_type": "stream",
     "text": [
      " 22%|██▏       | 21/94 [00:00<00:02, 25.35it/s]"
     ]
    },
    {
     "name": "stdout",
     "output_type": "stream",
     "text": [
      "torch.Size([128, 2, 2])\n",
      "torch.Size([128, 2, 2])\n",
      "torch.Size([128, 2, 2])\n",
      "torch.Size([128, 2, 2])\n",
      "torch.Size([128, 2, 2])\n"
     ]
    },
    {
     "name": "stderr",
     "output_type": "stream",
     "text": [
      "\r",
      " 26%|██▌       | 24/94 [00:00<00:02, 23.46it/s]"
     ]
    },
    {
     "name": "stdout",
     "output_type": "stream",
     "text": [
      "torch.Size([128, 2, 2])\n",
      "torch.Size([128, 2, 2])\n",
      "torch.Size([128, 2, 2])\n",
      "torch.Size([128, 2, 2])\n",
      "torch.Size([128, 2, 2])\n"
     ]
    },
    {
     "name": "stderr",
     "output_type": "stream",
     "text": [
      " 32%|███▏      | 30/94 [00:01<00:02, 22.02it/s]"
     ]
    },
    {
     "name": "stdout",
     "output_type": "stream",
     "text": [
      "torch.Size([128, 2, 2])\n",
      "torch.Size([128, 2, 2])\n",
      "torch.Size([128, 2, 2])\n",
      "torch.Size([128, 2, 2])\n",
      "torch.Size([128, 2, 2])\n"
     ]
    },
    {
     "name": "stderr",
     "output_type": "stream",
     "text": [
      " 38%|███▊      | 36/94 [00:01<00:02, 22.51it/s]"
     ]
    },
    {
     "name": "stdout",
     "output_type": "stream",
     "text": [
      "torch.Size([128, 2, 2])\n",
      "torch.Size([128, 2, 2])\n",
      "torch.Size([128, 2, 2])\n",
      "torch.Size([128, 2, 2])\n",
      "torch.Size([128, 2, 2])\n"
     ]
    },
    {
     "name": "stderr",
     "output_type": "stream",
     "text": [
      "\r",
      " 41%|████▏     | 39/94 [00:01<00:02, 21.86it/s]"
     ]
    },
    {
     "name": "stdout",
     "output_type": "stream",
     "text": [
      "torch.Size([128, 2, 2])\n",
      "torch.Size([128, 2, 2])\n",
      "torch.Size([128, 2, 2])\n",
      "torch.Size([128, 2, 2])\n",
      "torch.Size([128, 2, 2])\n"
     ]
    },
    {
     "name": "stderr",
     "output_type": "stream",
     "text": [
      " 48%|████▊     | 45/94 [00:01<00:02, 21.31it/s]"
     ]
    },
    {
     "name": "stdout",
     "output_type": "stream",
     "text": [
      "torch.Size([128, 2, 2])\n",
      "torch.Size([128, 2, 2])\n",
      "torch.Size([128, 2, 2])\n",
      "torch.Size([128, 2, 2])\n",
      "torch.Size([128, 2, 2])\n"
     ]
    },
    {
     "name": "stderr",
     "output_type": "stream",
     "text": [
      " 54%|█████▍    | 51/94 [00:02<00:02, 21.39it/s]"
     ]
    },
    {
     "name": "stdout",
     "output_type": "stream",
     "text": [
      "torch.Size([128, 2, 2])\n",
      "torch.Size([128, 2, 2])\n",
      "torch.Size([128, 2, 2])\n",
      "torch.Size([128, 2, 2])\n",
      "torch.Size([128, 2, 2])\n"
     ]
    },
    {
     "name": "stderr",
     "output_type": "stream",
     "text": [
      "\r",
      " 57%|█████▋    | 54/94 [00:02<00:01, 21.20it/s]"
     ]
    },
    {
     "name": "stdout",
     "output_type": "stream",
     "text": [
      "torch.Size([128, 2, 2])\n",
      "torch.Size([128, 2, 2])\n",
      "torch.Size([128, 2, 2])\n",
      "torch.Size([128, 2, 2])\n",
      "torch.Size([128, 2, 2])\n"
     ]
    },
    {
     "name": "stderr",
     "output_type": "stream",
     "text": [
      " 64%|██████▍   | 60/94 [00:02<00:01, 21.73it/s]"
     ]
    },
    {
     "name": "stdout",
     "output_type": "stream",
     "text": [
      "torch.Size([128, 2, 2])\n",
      "torch.Size([128, 2, 2])\n",
      "torch.Size([128, 2, 2])\n",
      "torch.Size([128, 2, 2])\n",
      "torch.Size([128, 2, 2])\n"
     ]
    },
    {
     "name": "stderr",
     "output_type": "stream",
     "text": [
      " 70%|███████   | 66/94 [00:02<00:01, 20.81it/s]"
     ]
    },
    {
     "name": "stdout",
     "output_type": "stream",
     "text": [
      "torch.Size([128, 2, 2])\n",
      "torch.Size([128, 2, 2])\n",
      "torch.Size([128, 2, 2])\n",
      "torch.Size([128, 2, 2])\n",
      "torch.Size([128, 2, 2])\n"
     ]
    },
    {
     "name": "stderr",
     "output_type": "stream",
     "text": [
      "\r",
      " 73%|███████▎  | 69/94 [00:03<00:01, 20.74it/s]"
     ]
    },
    {
     "name": "stdout",
     "output_type": "stream",
     "text": [
      "torch.Size([128, 2, 2])\n",
      "torch.Size([128, 2, 2])\n",
      "torch.Size([128, 2, 2])\n",
      "torch.Size([128, 2, 2])\n",
      "torch.Size([128, 2, 2])\n"
     ]
    },
    {
     "name": "stderr",
     "output_type": "stream",
     "text": [
      " 80%|███████▉  | 75/94 [00:03<00:00, 21.05it/s]"
     ]
    },
    {
     "name": "stdout",
     "output_type": "stream",
     "text": [
      "torch.Size([128, 2, 2])\n",
      "torch.Size([128, 2, 2])\n",
      "torch.Size([128, 2, 2])\n",
      "torch.Size([128, 2, 2])\n",
      "torch.Size([128, 2, 2])\n"
     ]
    },
    {
     "name": "stderr",
     "output_type": "stream",
     "text": [
      " 86%|████████▌ | 81/94 [00:03<00:00, 21.03it/s]"
     ]
    },
    {
     "name": "stdout",
     "output_type": "stream",
     "text": [
      "torch.Size([128, 2, 2])\n",
      "torch.Size([128, 2, 2])\n",
      "torch.Size([128, 2, 2])\n",
      "torch.Size([128, 2, 2])\n",
      "torch.Size([128, 2, 2])\n"
     ]
    },
    {
     "name": "stderr",
     "output_type": "stream",
     "text": [
      "\r",
      " 89%|████████▉ | 84/94 [00:03<00:00, 21.00it/s]"
     ]
    },
    {
     "name": "stdout",
     "output_type": "stream",
     "text": [
      "torch.Size([128, 2, 2])\n",
      "torch.Size([128, 2, 2])\n",
      "torch.Size([128, 2, 2])\n",
      "torch.Size([128, 2, 2])\n",
      "torch.Size([128, 2, 2])\n"
     ]
    },
    {
     "name": "stderr",
     "output_type": "stream",
     "text": [
      " 96%|█████████▌| 90/94 [00:04<00:00, 21.65it/s]"
     ]
    },
    {
     "name": "stdout",
     "output_type": "stream",
     "text": [
      "torch.Size([128, 2, 2])\n",
      "torch.Size([128, 2, 2])\n",
      "torch.Size([128, 2, 2])\n",
      "torch.Size([128, 2, 2])\n",
      "torch.Size([128, 2, 2])\n"
     ]
    },
    {
     "name": "stderr",
     "output_type": "stream",
     "text": [
      "100%|██████████| 94/94 [00:04<00:00, 22.26it/s]"
     ]
    },
    {
     "name": "stdout",
     "output_type": "stream",
     "text": [
      "torch.Size([128, 2, 2])\n",
      "torch.Size([128, 2, 2])\n",
      "tensor(0.2429, grad_fn=<MseLossBackward>)\n"
     ]
    },
    {
     "name": "stderr",
     "output_type": "stream",
     "text": [
      "\n"
     ]
    }
   ],
   "source": [
    "BATCH_SIZE = 10\n",
    "EPOCHS = 3 \n",
    "\n",
    "for epoch in range(EPOCHS):\n",
    "    for i in tqdm(range(0, len(train_X), BATCH_SIZE)):\n",
    "        batch_X = train_X[i:i+BATCH_SIZE].view(-1,1,50,50)\n",
    "        batch_y = train_y[i:i+BATCH_SIZE]\n",
    "        \n",
    "        net.zero_grad()\n",
    "        outputs = net(batch_X)\n",
    "        loss = loss_function(outputs, batch_y)\n",
    "        loss.backward()\n",
    "        optimizer.step()\n",
    "print(loss)"
   ]
  },
  {
   "cell_type": "code",
   "execution_count": 8,
   "metadata": {},
   "outputs": [
    {
     "name": "stderr",
     "output_type": "stream",
     "text": [
      "  8%|▊         | 24/313 [00:00<00:01, 238.48it/s]"
     ]
    },
    {
     "name": "stdout",
     "output_type": "stream",
     "text": [
      "torch.Size([128, 2, 2])\n",
      "tensor(1) tensor([0.5229, 0.4771])\n",
      "torch.Size([128, 2, 2])\n",
      "tensor(1) tensor([0.5229, 0.4771])\n",
      "torch.Size([128, 2, 2])\n",
      "tensor(0) tensor([0.5229, 0.4771])\n",
      "torch.Size([128, 2, 2])\n",
      "tensor(1) tensor([0.5229, 0.4771])\n",
      "torch.Size([128, 2, 2])\n",
      "tensor(1) tensor([0.5229, 0.4771])\n",
      "torch.Size([128, 2, 2])\n",
      "tensor(0) tensor([0.5229, 0.4771])\n",
      "torch.Size([128, 2, 2])\n",
      "tensor(1) tensor([0.5229, 0.4771])\n",
      "torch.Size([128, 2, 2])\n",
      "tensor(1) tensor([0.5229, 0.4771])\n",
      "torch.Size([128, 2, 2])\n",
      "tensor(0) tensor([0.5229, 0.4771])\n",
      "torch.Size([128, 2, 2])\n",
      "tensor(0) tensor([0.5229, 0.4771])\n",
      "torch.Size([128, 2, 2])\n",
      "tensor(1) tensor([0.5229, 0.4771])\n",
      "torch.Size([128, 2, 2])\n",
      "tensor(0) tensor([0.5229, 0.4771])\n",
      "torch.Size([128, 2, 2])\n",
      "tensor(1) tensor([0.5229, 0.4771])\n",
      "torch.Size([128, 2, 2])\n",
      "tensor(0) tensor([0.5229, 0.4771])\n",
      "torch.Size([128, 2, 2])\n",
      "tensor(1) tensor([0.5229, 0.4771])\n",
      "torch.Size([128, 2, 2])\n",
      "tensor(0) tensor([0.5229, 0.4771])\n",
      "torch.Size([128, 2, 2])\n",
      "tensor(1) tensor([0.5229, 0.4771])\n",
      "torch.Size([128, 2, 2])\n",
      "tensor(0) tensor([0.5229, 0.4771])\n",
      "torch.Size([128, 2, 2])\n",
      "tensor(1) tensor([0.5229, 0.4771])\n",
      "torch.Size([128, 2, 2])\n",
      "tensor(0) tensor([0.5229, 0.4771])\n",
      "torch.Size([128, 2, 2])\n",
      "tensor(0) tensor([0.5229, 0.4771])\n",
      "torch.Size([128, 2, 2])\n",
      "tensor(1) tensor([0.5229, 0.4771])\n",
      "torch.Size([128, 2, 2])\n",
      "tensor(1) tensor([0.5229, 0.4771])\n",
      "torch.Size([128, 2, 2])\n",
      "tensor(1) tensor([0.5229, 0.4771])\n",
      "torch.Size([128, 2, 2])\n",
      "tensor(1) tensor([0.5229, 0.4771])\n",
      "torch.Size([128, 2, 2])\n",
      "tensor(1) tensor([0.5229, 0.4771])\n",
      "torch.Size([128, 2, 2])\n",
      "tensor(1) tensor([0.5229, 0.4771])\n",
      "torch.Size([128, 2, 2])\n",
      "tensor(0) tensor([0.5229, 0.4771])\n",
      "torch.Size([128, 2, 2])\n",
      "tensor(1) tensor([0.5229, 0.4771])\n",
      "torch.Size([128, 2, 2])\n",
      "tensor(0) tensor([0.5229, 0.4771])\n",
      "torch.Size([128, 2, 2])\n",
      "tensor(0) tensor([0.5229, 0.4771])\n",
      "torch.Size([128, 2, 2])\n",
      "tensor(0) tensor([0.5229, 0.4771])\n",
      "torch.Size([128, 2, 2])\n",
      "tensor(1) tensor([0.5229, 0.4771])\n",
      "torch.Size([128, 2, 2])\n",
      "tensor(0) tensor([0.5229, 0.4771])\n",
      "torch.Size([128, 2, 2])\n",
      "tensor(0) tensor([0.5229, 0.4771])\n",
      "torch.Size([128, 2, 2])\n",
      "tensor(1) tensor([0.5229, 0.4771])\n",
      "torch.Size([128, 2, 2])\n",
      "tensor(1) tensor([0.5229, 0.4771])\n",
      "torch.Size([128, 2, 2])\n",
      "tensor(1) tensor([0.5229, 0.4771])\n",
      "torch.Size([128, 2, 2])\n",
      "tensor(0) tensor([0.5229, 0.4771])\n",
      "torch.Size([128, 2, 2])\n",
      "tensor(1) tensor([0.5229, 0.4771])\n",
      "torch.Size([128, 2, 2])\n",
      "tensor(0) tensor([0.5229, 0.4771])\n",
      "torch.Size([128, 2, 2])\n",
      "tensor(0) tensor([0.5229, 0.4771])\n",
      "torch.Size([128, 2, 2])\n",
      "tensor(0) tensor([0.5229, 0.4771])\n",
      "torch.Size([128, 2, 2])\n",
      "tensor(1) tensor([0.5229, 0.4771])\n",
      "torch.Size([128, 2, 2])\n",
      "tensor(1) tensor([0.5229, 0.4771])\n",
      "torch.Size([128, 2, 2])\n",
      "tensor(1) tensor([0.5229, 0.4771])\n",
      "torch.Size([128, 2, 2])\n",
      "tensor(1) tensor([0.5229, 0.4771])\n",
      "torch.Size([128, 2, 2])\n",
      "tensor(0) tensor([0.5229, 0.4771])\n",
      "torch.Size([128, 2, 2])\n",
      "tensor(0) "
     ]
    },
    {
     "name": "stderr",
     "output_type": "stream",
     "text": [
      " 23%|██▎       | 73/313 [00:00<00:01, 238.39it/s]"
     ]
    },
    {
     "name": "stdout",
     "output_type": "stream",
     "text": [
      "tensor([0.5229, 0.4771])\n",
      "torch.Size([128, 2, 2])\n",
      "tensor(0) tensor([0.5229, 0.4771])\n",
      "torch.Size([128, 2, 2])\n",
      "tensor(0) tensor([0.5229, 0.4771])\n",
      "torch.Size([128, 2, 2])\n",
      "tensor(0) tensor([0.5229, 0.4771])\n",
      "torch.Size([128, 2, 2])\n",
      "tensor(0) tensor([0.5229, 0.4771])\n",
      "torch.Size([128, 2, 2])\n",
      "tensor(0) tensor([0.5229, 0.4771])\n",
      "torch.Size([128, 2, 2])\n",
      "tensor(0) tensor([0.5229, 0.4771])\n",
      "torch.Size([128, 2, 2])\n",
      "tensor(0) tensor([0.5229, 0.4771])\n",
      "torch.Size([128, 2, 2])\n",
      "tensor(1) tensor([0.5229, 0.4771])\n",
      "torch.Size([128, 2, 2])\n",
      "tensor(1) tensor([0.5229, 0.4771])\n",
      "torch.Size([128, 2, 2])\n",
      "tensor(0) tensor([0.5229, 0.4771])\n",
      "torch.Size([128, 2, 2])\n",
      "tensor(0) tensor([0.5229, 0.4771])\n",
      "torch.Size([128, 2, 2])\n",
      "tensor(0) tensor([0.5229, 0.4771])\n",
      "torch.Size([128, 2, 2])\n",
      "tensor(1) tensor([0.5229, 0.4771])\n",
      "torch.Size([128, 2, 2])\n",
      "tensor(1) tensor([0.5229, 0.4771])\n",
      "torch.Size([128, 2, 2])\n",
      "tensor(0) tensor([0.5229, 0.4771])\n",
      "torch.Size([128, 2, 2])\n",
      "tensor(1) tensor([0.5229, 0.4771])\n",
      "torch.Size([128, 2, 2])\n",
      "tensor(1) tensor([0.5229, 0.4771])\n",
      "torch.Size([128, 2, 2])\n",
      "tensor(0) tensor([0.5229, 0.4771])\n",
      "torch.Size([128, 2, 2])\n",
      "tensor(1) tensor([0.5229, 0.4771])\n",
      "torch.Size([128, 2, 2])\n",
      "tensor(0) tensor([0.5229, 0.4771])\n",
      "torch.Size([128, 2, 2])\n",
      "tensor(1) tensor([0.5229, 0.4771])\n",
      "torch.Size([128, 2, 2])\n",
      "tensor(0) tensor([0.5229, 0.4771])\n",
      "torch.Size([128, 2, 2])\n",
      "tensor(1) tensor([0.5229, 0.4771])\n",
      "torch.Size([128, 2, 2])\n",
      "tensor(1) tensor([0.5229, 0.4771])\n",
      "torch.Size([128, 2, 2])\n",
      "tensor(0) tensor([0.5229, 0.4771])\n",
      "torch.Size([128, 2, 2])\n",
      "tensor(0) tensor([0.5229, 0.4771])\n",
      "torch.Size([128, 2, 2])\n",
      "tensor(1) tensor([0.5229, 0.4771])\n",
      "torch.Size([128, 2, 2])\n",
      "tensor(0) tensor([0.5229, 0.4771])\n",
      "torch.Size([128, 2, 2])\n",
      "tensor(1) tensor([0.5229, 0.4771])\n",
      "torch.Size([128, 2, 2])\n",
      "tensor(1) tensor([0.5229, 0.4771])\n",
      "torch.Size([128, 2, 2])\n",
      "tensor(0) tensor([0.5229, 0.4771])\n",
      "torch.Size([128, 2, 2])\n",
      "tensor(0) tensor([0.5229, 0.4771])\n",
      "torch.Size([128, 2, 2])\n",
      "tensor(0) tensor([0.5229, 0.4771])\n",
      "torch.Size([128, 2, 2])\n",
      "tensor(0) tensor([0.5229, 0.4771])\n",
      "torch.Size([128, 2, 2])\n",
      "tensor(1) tensor([0.5229, 0.4771])\n",
      "torch.Size([128, 2, 2])\n",
      "tensor(0) tensor([0.5229, 0.4771])\n",
      "torch.Size([128, 2, 2])\n",
      "tensor(0) tensor([0.5229, 0.4771])\n",
      "torch.Size([128, 2, 2])\n",
      "tensor(0) tensor([0.5229, 0.4771])\n",
      "torch.Size([128, 2, 2])\n",
      "tensor(1) tensor([0.5229, 0.4771])\n",
      "torch.Size([128, 2, 2])\n",
      "tensor(1) tensor([0.5229, 0.4771])\n",
      "torch.Size([128, 2, 2])\n",
      "tensor(1) tensor([0.5229, 0.4771])\n",
      "torch.Size([128, 2, 2])\n",
      "tensor(1) tensor([0.5229, 0.4771])\n",
      "torch.Size([128, 2, 2])\n",
      "tensor(0) tensor([0.5229, 0.4771])\n",
      "torch.Size([128, 2, 2])\n",
      "tensor(1) tensor([0.5229, 0.4771])\n",
      "torch.Size([128, 2, 2])\n",
      "tensor(0) tensor([0.5229, 0.4771])\n",
      "torch.Size([128, 2, 2])\n",
      "tensor(0) tensor([0.5229, 0.4771])\n",
      "torch.Size([128, 2, 2])\n",
      "tensor(0) tensor([0.5229, 0.4771])\n"
     ]
    },
    {
     "name": "stderr",
     "output_type": "stream",
     "text": [
      " 40%|███▉      | 125/313 [00:00<00:00, 246.88it/s]"
     ]
    },
    {
     "name": "stdout",
     "output_type": "stream",
     "text": [
      "torch.Size([128, 2, 2])\n",
      "tensor(1) tensor([0.5229, 0.4771])\n",
      "torch.Size([128, 2, 2])\n",
      "tensor(1) tensor([0.5229, 0.4771])\n",
      "torch.Size([128, 2, 2])\n",
      "tensor(0) tensor([0.5229, 0.4771])\n",
      "torch.Size([128, 2, 2])\n",
      "tensor(0) tensor([0.5229, 0.4771])\n",
      "torch.Size([128, 2, 2])\n",
      "tensor(1) tensor([0.5229, 0.4771])\n",
      "torch.Size([128, 2, 2])\n",
      "tensor(1) tensor([0.5229, 0.4771])\n",
      "torch.Size([128, 2, 2])\n",
      "tensor(0) tensor([0.5229, 0.4771])\n",
      "torch.Size([128, 2, 2])\n",
      "tensor(1) tensor([0.5229, 0.4771])\n",
      "torch.Size([128, 2, 2])\n",
      "tensor(0) tensor([0.5229, 0.4771])\n",
      "torch.Size([128, 2, 2])\n",
      "tensor(1) tensor([0.5229, 0.4771])\n",
      "torch.Size([128, 2, 2])\n",
      "tensor(1) tensor([0.5229, 0.4771])\n",
      "torch.Size([128, 2, 2])\n",
      "tensor(1) tensor([0.5229, 0.4771])\n",
      "torch.Size([128, 2, 2])\n",
      "tensor(1) tensor([0.5229, 0.4771])\n",
      "torch.Size([128, 2, 2])\n",
      "tensor(0) tensor([0.5229, 0.4771])\n",
      "torch.Size([128, 2, 2])\n",
      "tensor(0) tensor([0.5229, 0.4771])\n",
      "torch.Size([128, 2, 2])\n",
      "tensor(1) tensor([0.5229, 0.4771])\n",
      "torch.Size([128, 2, 2])\n",
      "tensor(1) tensor([0.5229, 0.4771])\n",
      "torch.Size([128, 2, 2])\n",
      "tensor(1) tensor([0.5229, 0.4771])\n",
      "torch.Size([128, 2, 2])\n",
      "tensor(0) tensor([0.5229, 0.4771])\n",
      "torch.Size([128, 2, 2])\n",
      "tensor(1) tensor([0.5229, 0.4771])\n",
      "torch.Size([128, 2, 2])\n",
      "tensor(1) tensor([0.5229, 0.4771])\n",
      "torch.Size([128, 2, 2])\n",
      "tensor(1) tensor([0.5229, 0.4771])\n",
      "torch.Size([128, 2, 2])\n",
      "tensor(0) tensor([0.5229, 0.4771])\n",
      "torch.Size([128, 2, 2])\n",
      "tensor(0) tensor([0.5229, 0.4771])\n",
      "torch.Size([128, 2, 2])\n",
      "tensor(0) tensor([0.5229, 0.4771])\n",
      "torch.Size([128, 2, 2])\n",
      "tensor(1) tensor([0.5229, 0.4771])\n",
      "torch.Size([128, 2, 2])\n",
      "tensor(1) tensor([0.5229, 0.4771])\n",
      "torch.Size([128, 2, 2])\n",
      "tensor(0) tensor([0.5229, 0.4771])\n",
      "torch.Size([128, 2, 2])\n",
      "tensor(0) tensor([0.5229, 0.4771])\n",
      "torch.Size([128, 2, 2])\n",
      "tensor(0) tensor([0.5229, 0.4771])\n",
      "torch.Size([128, 2, 2])\n",
      "tensor(0) tensor([0.5229, 0.4771])\n",
      "torch.Size([128, 2, 2])\n",
      "tensor(1) tensor([0.5229, 0.4771])\n",
      "torch.Size([128, 2, 2])\n",
      "tensor(0) tensor([0.5229, 0.4771])\n",
      "torch.Size([128, 2, 2])\n",
      "tensor(0) tensor([0.5229, 0.4771])\n",
      "torch.Size([128, 2, 2])\n",
      "tensor(0) tensor([0.5229, 0.4771])\n",
      "torch.Size([128, 2, 2])\n",
      "tensor(0) tensor([0.5229, 0.4771])\n",
      "torch.Size([128, 2, 2])\n",
      "tensor(0) tensor([0.5229, 0.4771])\n",
      "torch.Size([128, 2, 2])\n",
      "tensor(0) tensor([0.5229, 0.4771])\n",
      "torch.Size([128, 2, 2])\n",
      "tensor(1) tensor([0.5229, 0.4771])\n",
      "torch.Size([128, 2, 2])\n",
      "tensor(0) tensor([0.5229, 0.4771])\n",
      "torch.Size([128, 2, 2])\n",
      "tensor(1) tensor([0.5229, 0.4771])\n",
      "torch.Size([128, 2, 2])\n",
      "tensor(0) tensor([0.5229, 0.4771])\n",
      "torch.Size([128, 2, 2])\n",
      "tensor(0) tensor([0.5229, 0.4771])\n",
      "torch.Size([128, 2, 2])\n",
      "tensor(0) tensor([0.5229, 0.4771])\n",
      "torch.Size([128, 2, 2])\n",
      "tensor(1) tensor([0.5229, 0.4771])\n",
      "torch.Size([128, 2, 2])\n",
      "tensor(1) tensor([0.5229, 0.4771])\n",
      "torch.Size([128, 2, 2])\n",
      "tensor(1) tensor([0.5229, 0.4771])\n",
      "torch.Size([128, 2, 2])\n",
      "tensor(0) tensor([0.5229, 0.4771])\n",
      "torch.Size([128, 2, 2])\n",
      "tensor(0) tensor([0.5229, 0.4771])\n",
      "torch.Size([128, 2, 2])\n",
      "tensor(0) tensor([0.5229, 0.4771])\n",
      "torch.Size([128, 2, 2])\n",
      "tensor(0) tensor([0.5229, 0.4771])\n",
      "torch.Size([128, 2, 2])\n",
      "tensor(0) tensor([0.5229, 0.4771])\n",
      "torch.Size([128, 2, 2])\n",
      "tensor(1) tensor([0.5229, 0.4771])\n",
      "torch.Size([128, 2, 2])\n",
      "tensor(1) tensor([0.5229, 0.4771])\n",
      "torch.Size([128, 2, 2])\n",
      "tensor(1) tensor([0.5229, 0.4771])\n",
      "torch.Size([128, 2, 2])\n",
      "tensor(1) tensor([0.5229, 0.4771])\n"
     ]
    },
    {
     "name": "stderr",
     "output_type": "stream",
     "text": [
      " 58%|█████▊    | 183/313 [00:00<00:00, 263.73it/s]"
     ]
    },
    {
     "name": "stdout",
     "output_type": "stream",
     "text": [
      "torch.Size([128, 2, 2])\n",
      "tensor(1) tensor([0.5229, 0.4771])\n",
      "torch.Size([128, 2, 2])\n",
      "tensor(1) tensor([0.5229, 0.4771])\n",
      "torch.Size([128, 2, 2])\n",
      "tensor(1) tensor([0.5229, 0.4771])\n",
      "torch.Size([128, 2, 2])\n",
      "tensor(0) tensor([0.5229, 0.4771])\n",
      "torch.Size([128, 2, 2])\n",
      "tensor(0) tensor([0.5229, 0.4771])\n",
      "torch.Size([128, 2, 2])\n",
      "tensor(1) tensor([0.5229, 0.4771])\n",
      "torch.Size([128, 2, 2])\n",
      "tensor(0) tensor([0.5229, 0.4771])\n",
      "torch.Size([128, 2, 2])\n",
      "tensor(0) tensor([0.5229, 0.4771])\n",
      "torch.Size([128, 2, 2])\n",
      "tensor(1) tensor([0.5229, 0.4771])\n",
      "torch.Size([128, 2, 2])\n",
      "tensor(0) tensor([0.5229, 0.4771])\n",
      "torch.Size([128, 2, 2])\n",
      "tensor(1) tensor([0.5229, 0.4771])\n",
      "torch.Size([128, 2, 2])\n",
      "tensor(0) tensor([0.5229, 0.4771])\n",
      "torch.Size([128, 2, 2])\n",
      "tensor(0) tensor([0.5229, 0.4771])\n",
      "torch.Size([128, 2, 2])\n",
      "tensor(0) tensor([0.5229, 0.4771])\n",
      "torch.Size([128, 2, 2])\n",
      "tensor(1) tensor([0.5229, 0.4771])\n",
      "torch.Size([128, 2, 2])\n",
      "tensor(0) tensor([0.5229, 0.4771])\n",
      "torch.Size([128, 2, 2])\n",
      "tensor(0) tensor([0.5229, 0.4771])\n",
      "torch.Size([128, 2, 2])\n",
      "tensor(1) tensor([0.5229, 0.4771])\n",
      "torch.Size([128, 2, 2])\n",
      "tensor(0) tensor([0.5229, 0.4771])\n",
      "torch.Size([128, 2, 2])\n",
      "tensor(0) tensor([0.5229, 0.4771])\n",
      "torch.Size([128, 2, 2])\n",
      "tensor(0) tensor([0.5229, 0.4771])\n",
      "torch.Size([128, 2, 2])\n",
      "tensor(1) tensor([0.5229, 0.4771])\n",
      "torch.Size([128, 2, 2])\n",
      "tensor(1) tensor([0.5229, 0.4771])\n",
      "torch.Size([128, 2, 2])\n",
      "tensor(0) tensor([0.5229, 0.4771])\n",
      "torch.Size([128, 2, 2])\n",
      "tensor(0) tensor([0.5229, 0.4771])\n",
      "torch.Size([128, 2, 2])\n",
      "tensor(0) tensor([0.5229, 0.4771])\n",
      "torch.Size([128, 2, 2])\n",
      "tensor(1) tensor([0.5229, 0.4771])\n",
      "torch.Size([128, 2, 2])\n",
      "tensor(1) tensor([0.5229, 0.4771])\n",
      "torch.Size([128, 2, 2])\n",
      "tensor(1) tensor([0.5229, 0.4771])\n",
      "torch.Size([128, 2, 2])\n",
      "tensor(1) tensor([0.5229, 0.4771])\n",
      "torch.Size([128, 2, 2])\n",
      "tensor(1) tensor([0.5229, 0.4771])\n",
      "torch.Size([128, 2, 2])\n",
      "tensor(1) tensor([0.5229, 0.4771])\n",
      "torch.Size([128, 2, 2])\n",
      "tensor(0) tensor([0.5229, 0.4771])\n",
      "torch.Size([128, 2, 2])\n",
      "tensor(1) tensor([0.5229, 0.4771])\n",
      "torch.Size([128, 2, 2])\n",
      "tensor(1) tensor([0.5229, 0.4771])\n",
      "torch.Size([128, 2, 2])\n",
      "tensor(0) tensor([0.5229, 0.4771])\n",
      "torch.Size([128, 2, 2])\n",
      "tensor(0) tensor([0.5229, 0.4771])\n",
      "torch.Size([128, 2, 2])\n",
      "tensor(0) tensor([0.5229, 0.4771])\n",
      "torch.Size([128, 2, 2])\n",
      "tensor(1) tensor([0.5229, 0.4771])\n",
      "torch.Size([128, 2, 2])\n",
      "tensor(0) tensor([0.5229, 0.4771])\n",
      "torch.Size([128, 2, 2])\n",
      "tensor(0) tensor([0.5229, 0.4771])\n",
      "torch.Size([128, 2, 2])\n",
      "tensor(1) tensor([0.5229, 0.4771])\n",
      "torch.Size([128, 2, 2])\n",
      "tensor(0) tensor([0.5229, 0.4771])\n",
      "torch.Size([128, 2, 2])\n",
      "tensor(1) tensor([0.5229, 0.4771])\n",
      "torch.Size([128, 2, 2])\n",
      "tensor(1) tensor([0.5229, 0.4771])\n",
      "torch.Size([128, 2, 2])\n",
      "tensor(1) tensor([0.5229, 0.4771])\n",
      "torch.Size([128, 2, 2])\n",
      "tensor(1) tensor([0.5229, 0.4771])\n",
      "torch.Size([128, 2, 2])\n",
      "tensor(1) tensor([0.5229, 0.4771])\n",
      "torch.Size([128, 2, 2])\n",
      "tensor(0) tensor([0.5229, 0.4771])\n",
      "torch.Size([128, 2, 2])\n",
      "tensor(0) tensor([0.5229, 0.4771])\n",
      "torch.Size([128, 2, 2])\n",
      "tensor(1) tensor([0.5229, 0.4771])\n",
      "torch.Size([128, 2, 2])\n",
      "tensor(1) tensor([0.5229, 0.4771])\n",
      "torch.Size([128, 2, 2])\n",
      "tensor(1) tensor([0.5229, 0.4771])\n",
      "torch.Size([128, 2, 2])\n",
      "tensor(0) tensor([0.5229, 0.4771])\n",
      "torch.Size([128, 2, 2])\n",
      "tensor(0) tensor([0.5229, 0.4771])\n",
      "torch.Size([128, 2, 2])\n",
      "tensor(0) tensor([0.5229, 0.4771])\n",
      "torch.Size([128, 2, 2])\n",
      "tensor(1) tensor([0.5229, 0.4771])\n"
     ]
    },
    {
     "name": "stderr",
     "output_type": "stream",
     "text": [
      " 76%|███████▋  | 239/313 [00:00<00:00, 269.56it/s]"
     ]
    },
    {
     "name": "stdout",
     "output_type": "stream",
     "text": [
      "torch.Size([128, 2, 2])\n",
      "tensor(1) tensor([0.5229, 0.4771])\n",
      "torch.Size([128, 2, 2])\n",
      "tensor(1) tensor([0.5229, 0.4771])\n",
      "torch.Size([128, 2, 2])\n",
      "tensor(0) tensor([0.5229, 0.4771])\n",
      "torch.Size([128, 2, 2])\n",
      "tensor(1) tensor([0.5229, 0.4771])\n",
      "torch.Size([128, 2, 2])\n",
      "tensor(0) tensor([0.5229, 0.4771])\n",
      "torch.Size([128, 2, 2])\n",
      "tensor(0) tensor([0.5229, 0.4771])\n",
      "torch.Size([128, 2, 2])\n",
      "tensor(0) tensor([0.5229, 0.4771])\n",
      "torch.Size([128, 2, 2])\n",
      "tensor(0) tensor([0.5229, 0.4771])\n",
      "torch.Size([128, 2, 2])\n",
      "tensor(0) tensor([0.5229, 0.4771])\n",
      "torch.Size([128, 2, 2])\n",
      "tensor(1) tensor([0.5229, 0.4771])\n",
      "torch.Size([128, 2, 2])\n",
      "tensor(1) tensor([0.5229, 0.4771])\n",
      "torch.Size([128, 2, 2])\n",
      "tensor(0) tensor([0.5229, 0.4771])\n",
      "torch.Size([128, 2, 2])\n",
      "tensor(1) tensor([0.5229, 0.4771])\n",
      "torch.Size([128, 2, 2])\n",
      "tensor(1) tensor([0.5229, 0.4771])\n",
      "torch.Size([128, 2, 2])\n",
      "tensor(1) tensor([0.5229, 0.4771])\n",
      "torch.Size([128, 2, 2])\n",
      "tensor(0) tensor([0.5229, 0.4771])\n",
      "torch.Size([128, 2, 2])\n",
      "tensor(1) tensor([0.5229, 0.4771])\n",
      "torch.Size([128, 2, 2])\n",
      "tensor(1) tensor([0.5229, 0.4771])\n",
      "torch.Size([128, 2, 2])\n",
      "tensor(0) tensor([0.5229, 0.4771])\n",
      "torch.Size([128, 2, 2])\n",
      "tensor(0) tensor([0.5229, 0.4771])\n",
      "torch.Size([128, 2, 2])\n",
      "tensor(0) tensor([0.5229, 0.4771])\n",
      "torch.Size([128, 2, 2])\n",
      "tensor(0) tensor([0.5229, 0.4771])\n",
      "torch.Size([128, 2, 2])\n",
      "tensor(0) tensor([0.5229, 0.4771])\n",
      "torch.Size([128, 2, 2])\n",
      "tensor(1) tensor([0.5229, 0.4771])\n",
      "torch.Size([128, 2, 2])\n",
      "tensor(0) tensor([0.5229, 0.4771])\n",
      "torch.Size([128, 2, 2])\n",
      "tensor(0) tensor([0.5229, 0.4771])\n",
      "torch.Size([128, 2, 2])\n",
      "tensor(0) tensor([0.5229, 0.4771])\n",
      "torch.Size([128, 2, 2])\n",
      "tensor(0) tensor([0.5229, 0.4771])\n",
      "torch.Size([128, 2, 2])\n",
      "tensor(1) tensor([0.5229, 0.4771])\n",
      "torch.Size([128, 2, 2])\n",
      "tensor(0) tensor([0.5229, 0.4771])\n",
      "torch.Size([128, 2, 2])\n",
      "tensor(1) tensor([0.5229, 0.4771])\n",
      "torch.Size([128, 2, 2])\n",
      "tensor(0) tensor([0.5229, 0.4771])\n",
      "torch.Size([128, 2, 2])\n",
      "tensor(0) tensor([0.5229, 0.4771])\n",
      "torch.Size([128, 2, 2])\n",
      "tensor(0) tensor([0.5229, 0.4771])\n",
      "torch.Size([128, 2, 2])\n",
      "tensor(0) tensor([0.5229, 0.4771])\n",
      "torch.Size([128, 2, 2])\n",
      "tensor(1) tensor([0.5229, 0.4771])\n",
      "torch.Size([128, 2, 2])\n",
      "tensor(1) tensor([0.5229, 0.4771])\n",
      "torch.Size([128, 2, 2])\n",
      "tensor(0) tensor([0.5229, 0.4771])\n",
      "torch.Size([128, 2, 2])\n",
      "tensor(0) tensor([0.5229, 0.4771])\n",
      "torch.Size([128, 2, 2])\n",
      "tensor(1) tensor([0.5229, 0.4771])\n",
      "torch.Size([128, 2, 2])\n",
      "tensor(0) tensor([0.5229, 0.4771])\n",
      "torch.Size([128, 2, 2])\n",
      "tensor(1) tensor([0.5229, 0.4771])\n",
      "torch.Size([128, 2, 2])\n",
      "tensor(0) tensor([0.5229, 0.4771])\n",
      "torch.Size([128, 2, 2])\n",
      "tensor(0) tensor([0.5229, 0.4771])\n",
      "torch.Size([128, 2, 2])\n",
      "tensor(0) tensor([0.5229, 0.4771])\n",
      "torch.Size([128, 2, 2])\n",
      "tensor(0) tensor([0.5229, 0.4771])\n",
      "torch.Size([128, 2, 2])\n",
      "tensor(0) tensor([0.5229, 0.4771])\n",
      "torch.Size([128, 2, 2])\n",
      "tensor(0) tensor([0.5229, 0.4771])\n",
      "torch.Size([128, 2, 2])\n",
      "tensor(0) tensor([0.5229, 0.4771])\n",
      "torch.Size([128, 2, 2])\n",
      "tensor(1) tensor([0.5229, 0.4771])\n",
      "torch.Size([128, 2, 2])\n",
      "tensor(1) tensor([0.5229, 0.4771])\n",
      "torch.Size([128, 2, 2])\n",
      "tensor(0) tensor([0.5229, 0.4771])\n",
      "torch.Size([128, 2, 2])\n",
      "tensor(0) tensor([0.5229, 0.4771])\n",
      "torch.Size([128, 2, 2])\n",
      "tensor(0) tensor([0.5229, 0.4771])\n"
     ]
    },
    {
     "name": "stderr",
     "output_type": "stream",
     "text": [
      "\r",
      " 85%|████████▍ | 266/313 [00:01<00:00, 265.97it/s]"
     ]
    },
    {
     "name": "stdout",
     "output_type": "stream",
     "text": [
      "torch.Size([128, 2, 2])\n",
      "tensor(1) tensor([0.5229, 0.4771])\n",
      "torch.Size([128, 2, 2])\n",
      "tensor(0) tensor([0.5229, 0.4771])\n",
      "torch.Size([128, 2, 2])\n",
      "tensor(0) tensor([0.5229, 0.4771])\n",
      "torch.Size([128, 2, 2])\n",
      "tensor(1) tensor([0.5229, 0.4771])\n",
      "torch.Size([128, 2, 2])\n",
      "tensor(0) tensor([0.5229, 0.4771])\n",
      "torch.Size([128, 2, 2])\n",
      "tensor(0) tensor([0.5229, 0.4771])\n",
      "torch.Size([128, 2, 2])\n",
      "tensor(0) tensor([0.5229, 0.4771])\n",
      "torch.Size([128, 2, 2])\n",
      "tensor(1) tensor([0.5229, 0.4771])\n",
      "torch.Size([128, 2, 2])\n",
      "tensor(0) tensor([0.5229, 0.4771])\n",
      "torch.Size([128, 2, 2])\n",
      "tensor(1) tensor([0.5229, 0.4771])\n",
      "torch.Size([128, 2, 2])\n",
      "tensor(0) tensor([0.5229, 0.4771])\n",
      "torch.Size([128, 2, 2])\n",
      "tensor(0) tensor([0.5229, 0.4771])\n",
      "torch.Size([128, 2, 2])\n",
      "tensor(0) tensor([0.5229, 0.4771])\n",
      "torch.Size([128, 2, 2])\n",
      "tensor(0) tensor([0.5229, 0.4771])\n",
      "torch.Size([128, 2, 2])\n",
      "tensor(1) tensor([0.5229, 0.4771])\n",
      "torch.Size([128, 2, 2])\n",
      "tensor(0) tensor([0.5229, 0.4771])\n",
      "torch.Size([128, 2, 2])\n",
      "tensor(0) tensor([0.5229, 0.4771])\n",
      "torch.Size([128, 2, 2])\n",
      "tensor(1) tensor([0.5229, 0.4771])\n",
      "torch.Size([128, 2, 2])\n",
      "tensor(1) tensor([0.5229, 0.4771])\n",
      "torch.Size([128, 2, 2])\n",
      "tensor(1) tensor([0.5229, 0.4771])\n",
      "torch.Size([128, 2, 2])\n",
      "tensor(0) tensor([0.5229, 0.4771])\n",
      "torch.Size([128, 2, 2])\n",
      "tensor(0) tensor([0.5229, 0.4771])\n",
      "torch.Size([128, 2, 2])\n",
      "tensor(1) tensor([0.5229, 0.4771])\n",
      "torch.Size([128, 2, 2])\n",
      "tensor(1) tensor([0.5229, 0.4771])\n",
      "torch.Size([128, 2, 2])\n",
      "tensor(1) tensor([0.5229, 0.4771])\n",
      "torch.Size([128, 2, 2])\n",
      "tensor(0) tensor([0.5229, 0.4771])\n",
      "torch.Size([128, 2, 2])\n",
      "tensor(1) tensor([0.5229, 0.4771])\n"
     ]
    },
    {
     "name": "stderr",
     "output_type": "stream",
     "text": [
      "\r",
      " 94%|█████████▎| 293/313 [00:01<00:00, 258.21it/s]"
     ]
    },
    {
     "name": "stdout",
     "output_type": "stream",
     "text": [
      "torch.Size([128, 2, 2])\n",
      "tensor(1) tensor([0.5229, 0.4771])\n",
      "torch.Size([128, 2, 2])\n",
      "tensor(1) tensor([0.5229, 0.4771])\n",
      "torch.Size([128, 2, 2])\n",
      "tensor(1) tensor([0.5229, 0.4771])\n",
      "torch.Size([128, 2, 2])\n",
      "tensor(0) tensor([0.5229, 0.4771])\n",
      "torch.Size([128, 2, 2])\n",
      "tensor(1) tensor([0.5229, 0.4771])\n",
      "torch.Size([128, 2, 2])\n",
      "tensor(1) tensor([0.5229, 0.4771])\n",
      "torch.Size([128, 2, 2])\n",
      "tensor(0) tensor([0.5229, 0.4771])\n",
      "torch.Size([128, 2, 2])\n",
      "tensor(0) tensor([0.5229, 0.4771])\n",
      "torch.Size([128, 2, 2])\n",
      "tensor(1) tensor([0.5229, 0.4771])\n",
      "torch.Size([128, 2, 2])\n",
      "tensor(0) tensor([0.5229, 0.4771])\n",
      "torch.Size([128, 2, 2])\n",
      "tensor(0) tensor([0.5229, 0.4771])\n",
      "torch.Size([128, 2, 2])\n",
      "tensor(1) tensor([0.5229, 0.4771])\n",
      "torch.Size([128, 2, 2])\n",
      "tensor(0) tensor([0.5229, 0.4771])\n",
      "torch.Size([128, 2, 2])\n",
      "tensor(0) tensor([0.5229, 0.4771])\n",
      "torch.Size([128, 2, 2])\n",
      "tensor(1) tensor([0.5229, 0.4771])\n",
      "torch.Size([128, 2, 2])\n",
      "tensor(1) tensor([0.5229, 0.4771])\n",
      "torch.Size([128, 2, 2])\n",
      "tensor(1) tensor([0.5229, 0.4771])\n",
      "torch.Size([128, 2, 2])\n",
      "tensor(0) tensor([0.5229, 0.4771])\n",
      "torch.Size([128, 2, 2])\n",
      "tensor(0) tensor([0.5229, 0.4771])\n",
      "torch.Size([128, 2, 2])\n",
      "tensor(0) tensor([0.5229, 0.4771])\n",
      "torch.Size([128, 2, 2])\n",
      "tensor(1) tensor([0.5229, 0.4771])\n",
      "torch.Size([128, 2, 2])\n",
      "tensor(0) tensor([0.5229, 0.4771])\n"
     ]
    },
    {
     "name": "stderr",
     "output_type": "stream",
     "text": [
      "\r",
      "100%|██████████| 313/313 [00:01<00:00, 256.52it/s]"
     ]
    },
    {
     "name": "stdout",
     "output_type": "stream",
     "text": [
      "torch.Size([128, 2, 2])\n",
      "tensor(1) tensor([0.5229, 0.4771])\n",
      "Accuracy: 0.537\n"
     ]
    },
    {
     "name": "stderr",
     "output_type": "stream",
     "text": [
      "\n"
     ]
    }
   ],
   "source": [
    "correct = 0\n",
    "total = 0\n",
    "\n",
    "with torch.no_grad():\n",
    "    for i in tqdm(range(len(test_X))):\n",
    "        real_class = torch.argmax(test_y[i])\n",
    "        net_out = net(test_X[i].view(-1,1,50,50))[0]\n",
    "        \n",
    "        print(real_class, net_out)\n",
    "        \n",
    "        predicted_class = torch.argmax(net_out)\n",
    "        if predicted_class == real_class:\n",
    "            correct += 1\n",
    "        total += 1\n",
    "\n",
    "print('Accuracy:', round(correct/total,3))"
   ]
  },
  {
   "cell_type": "code",
   "execution_count": 9,
   "metadata": {},
   "outputs": [],
   "source": [
    "def fwd_pass(X,y, train=False):\n",
    "    if train:\n",
    "        net.zero_grad()\n",
    "    outputs = net(X)\n",
    "    matches = [torch.argmax(i) == torch.argmax(j) for i,j in zip(outputs, y)]\n",
    "    acc = matches.count(True)/len(matches)\n",
    "    loss = loss_function(outputs, y)\n",
    "    \n",
    "    if train:\n",
    "        loss.backward()\n",
    "        optimizer.step()\n",
    "    return acc, loss"
   ]
  },
  {
   "cell_type": "code",
   "execution_count": 10,
   "metadata": {},
   "outputs": [
    {
     "name": "stdout",
     "output_type": "stream",
     "text": [
      "torch.Size([128, 2, 2])\n",
      "0.4375 tensor(0.2534)\n"
     ]
    }
   ],
   "source": [
    "import numpy as np\n",
    "def test(size=32):\n",
    "    random_start = np.random.randint(len(test_X)-size)\n",
    "    X,y = test_X[random_start:random_start+size], test_y[random_start:random_start+size]\n",
    "    with torch.no_grad():\n",
    "        val_acc, val_loss = fwd_pass(X.view(-1,1,50,50),y)\n",
    "    return val_acc, val_loss\n",
    "\n",
    "val_acc, val_loss = test(size=32)\n",
    "print(val_acc,val_loss)"
   ]
  },
  {
   "cell_type": "code",
   "execution_count": 11,
   "metadata": {},
   "outputs": [
    {
     "name": "stdout",
     "output_type": "stream",
     "text": [
      "torch.Size([128, 2, 2])\n",
      "model-1598618390\n"
     ]
    }
   ],
   "source": [
    "import time\n",
    "\n",
    "MODEL_NAME = f\"model-{int(time.time())}\"\n",
    "\n",
    "net = Net()\n",
    "optimizer = optim.Adam(net.parameters(), lr = .001)\n",
    "loss_function = nn.MSELoss()\n",
    "\n",
    "print(MODEL_NAME)"
   ]
  },
  {
   "cell_type": "code",
   "execution_count": 12,
   "metadata": {},
   "outputs": [
    {
     "name": "stderr",
     "output_type": "stream",
     "text": [
      "\r",
      "  0%|          | 0/94 [00:00<?, ?it/s]"
     ]
    },
    {
     "name": "stdout",
     "output_type": "stream",
     "text": [
      "torch.Size([128, 2, 2])\n"
     ]
    },
    {
     "name": "stderr",
     "output_type": "stream",
     "text": [
      "\r",
      "  1%|          | 1/94 [00:00<00:11,  8.01it/s]"
     ]
    },
    {
     "name": "stdout",
     "output_type": "stream",
     "text": [
      "torch.Size([128, 2, 2])\n",
      "torch.Size([128, 2, 2])\n",
      "torch.Size([128, 2, 2])\n"
     ]
    },
    {
     "name": "stderr",
     "output_type": "stream",
     "text": [
      "\r",
      "  3%|▎         | 3/94 [00:00<00:09,  9.69it/s]"
     ]
    },
    {
     "name": "stdout",
     "output_type": "stream",
     "text": [
      "torch.Size([128, 2, 2])\n",
      "torch.Size([128, 2, 2])\n"
     ]
    },
    {
     "name": "stderr",
     "output_type": "stream",
     "text": [
      "\r",
      "  5%|▌         | 5/94 [00:00<00:07, 11.41it/s]"
     ]
    },
    {
     "name": "stdout",
     "output_type": "stream",
     "text": [
      "torch.Size([128, 2, 2])\n",
      "torch.Size([128, 2, 2])\n"
     ]
    },
    {
     "name": "stderr",
     "output_type": "stream",
     "text": [
      "\r",
      "  7%|▋         | 7/94 [00:00<00:06, 13.09it/s]"
     ]
    },
    {
     "name": "stdout",
     "output_type": "stream",
     "text": [
      "torch.Size([128, 2, 2])\n"
     ]
    },
    {
     "name": "stderr",
     "output_type": "stream",
     "text": [
      "\r",
      " 10%|▉         | 9/94 [00:00<00:05, 14.49it/s]"
     ]
    },
    {
     "name": "stdout",
     "output_type": "stream",
     "text": [
      "torch.Size([128, 2, 2])\n",
      "torch.Size([128, 2, 2])\n",
      "torch.Size([128, 2, 2])\n",
      "torch.Size([128, 2, 2])\n"
     ]
    },
    {
     "name": "stderr",
     "output_type": "stream",
     "text": [
      "\r",
      " 13%|█▎        | 12/94 [00:00<00:05, 16.07it/s]"
     ]
    },
    {
     "name": "stdout",
     "output_type": "stream",
     "text": [
      "torch.Size([128, 2, 2])\n",
      "torch.Size([128, 2, 2])\n"
     ]
    },
    {
     "name": "stderr",
     "output_type": "stream",
     "text": [
      "\r",
      " 16%|█▌        | 15/94 [00:00<00:05, 15.65it/s]"
     ]
    },
    {
     "name": "stdout",
     "output_type": "stream",
     "text": [
      "torch.Size([128, 2, 2])\n",
      "torch.Size([128, 2, 2])\n",
      "torch.Size([128, 2, 2])\n",
      "torch.Size([128, 2, 2])\n",
      "torch.Size([128, 2, 2])\n"
     ]
    },
    {
     "name": "stderr",
     "output_type": "stream",
     "text": [
      "\r",
      " 19%|█▉        | 18/94 [00:01<00:04, 17.00it/s]"
     ]
    },
    {
     "name": "stdout",
     "output_type": "stream",
     "text": [
      "torch.Size([128, 2, 2])\n",
      "torch.Size([128, 2, 2])\n",
      "torch.Size([128, 2, 2])\n"
     ]
    },
    {
     "name": "stderr",
     "output_type": "stream",
     "text": [
      "\r",
      " 22%|██▏       | 21/94 [00:01<00:04, 16.49it/s]"
     ]
    },
    {
     "name": "stdout",
     "output_type": "stream",
     "text": [
      "torch.Size([128, 2, 2])\n",
      "torch.Size([128, 2, 2])\n",
      "torch.Size([128, 2, 2])\n",
      "torch.Size([128, 2, 2])\n"
     ]
    },
    {
     "name": "stderr",
     "output_type": "stream",
     "text": [
      "\r",
      " 26%|██▌       | 24/94 [00:01<00:03, 17.70it/s]"
     ]
    },
    {
     "name": "stdout",
     "output_type": "stream",
     "text": [
      "torch.Size([128, 2, 2])\n",
      "torch.Size([128, 2, 2])\n",
      "torch.Size([128, 2, 2])\n"
     ]
    },
    {
     "name": "stderr",
     "output_type": "stream",
     "text": [
      "\r",
      " 29%|██▊       | 27/94 [00:01<00:03, 17.08it/s]"
     ]
    },
    {
     "name": "stdout",
     "output_type": "stream",
     "text": [
      "torch.Size([128, 2, 2])\n",
      "torch.Size([128, 2, 2])\n",
      "torch.Size([128, 2, 2])\n"
     ]
    },
    {
     "name": "stderr",
     "output_type": "stream",
     "text": [
      "\r",
      " 32%|███▏      | 30/94 [00:01<00:03, 18.33it/s]"
     ]
    },
    {
     "name": "stdout",
     "output_type": "stream",
     "text": [
      "torch.Size([128, 2, 2])\n",
      "torch.Size([128, 2, 2])\n",
      "torch.Size([128, 2, 2])\n",
      "torch.Size([128, 2, 2])\n"
     ]
    },
    {
     "name": "stderr",
     "output_type": "stream",
     "text": [
      "\r",
      " 35%|███▌      | 33/94 [00:01<00:03, 17.75it/s]"
     ]
    },
    {
     "name": "stdout",
     "output_type": "stream",
     "text": [
      "torch.Size([128, 2, 2])\n",
      "torch.Size([128, 2, 2])\n",
      "torch.Size([128, 2, 2])\n",
      "torch.Size([128, 2, 2])\n"
     ]
    },
    {
     "name": "stderr",
     "output_type": "stream",
     "text": [
      "\r",
      " 38%|███▊      | 36/94 [00:01<00:03, 19.30it/s]"
     ]
    },
    {
     "name": "stdout",
     "output_type": "stream",
     "text": [
      "torch.Size([128, 2, 2])\n",
      "torch.Size([128, 2, 2])\n"
     ]
    },
    {
     "name": "stderr",
     "output_type": "stream",
     "text": [
      "\r",
      " 41%|████▏     | 39/94 [00:02<00:02, 19.65it/s]"
     ]
    },
    {
     "name": "stdout",
     "output_type": "stream",
     "text": [
      "torch.Size([128, 2, 2])\n",
      "torch.Size([128, 2, 2])\n",
      "torch.Size([128, 2, 2])\n"
     ]
    },
    {
     "name": "stderr",
     "output_type": "stream",
     "text": [
      "\r",
      " 45%|████▍     | 42/94 [00:02<00:02, 19.82it/s]"
     ]
    },
    {
     "name": "stdout",
     "output_type": "stream",
     "text": [
      "torch.Size([128, 2, 2])\n",
      "torch.Size([128, 2, 2])\n"
     ]
    },
    {
     "name": "stderr",
     "output_type": "stream",
     "text": [
      "\r",
      " 48%|████▊     | 45/94 [00:02<00:02, 19.64it/s]"
     ]
    },
    {
     "name": "stdout",
     "output_type": "stream",
     "text": [
      "torch.Size([128, 2, 2])\n",
      "torch.Size([128, 2, 2])\n",
      "torch.Size([128, 2, 2])\n",
      "torch.Size([128, 2, 2])\n"
     ]
    },
    {
     "name": "stderr",
     "output_type": "stream",
     "text": [
      "\r",
      " 50%|█████     | 47/94 [00:02<00:02, 16.69it/s]"
     ]
    },
    {
     "name": "stdout",
     "output_type": "stream",
     "text": [
      "torch.Size([128, 2, 2])\n",
      "torch.Size([128, 2, 2])\n",
      "torch.Size([128, 2, 2])\n"
     ]
    },
    {
     "name": "stderr",
     "output_type": "stream",
     "text": [
      "\r",
      " 53%|█████▎    | 50/94 [00:02<00:02, 18.03it/s]"
     ]
    },
    {
     "name": "stdout",
     "output_type": "stream",
     "text": [
      "torch.Size([128, 2, 2])\n",
      "torch.Size([128, 2, 2])\n",
      "torch.Size([128, 2, 2])\n",
      "torch.Size([128, 2, 2])\n"
     ]
    },
    {
     "name": "stderr",
     "output_type": "stream",
     "text": [
      "\r",
      " 56%|█████▋    | 53/94 [00:02<00:02, 17.16it/s]"
     ]
    },
    {
     "name": "stdout",
     "output_type": "stream",
     "text": [
      "torch.Size([128, 2, 2])\n",
      "torch.Size([128, 2, 2])\n",
      "torch.Size([128, 2, 2])\n",
      "torch.Size([128, 2, 2])\n"
     ]
    },
    {
     "name": "stderr",
     "output_type": "stream",
     "text": [
      "\r",
      " 60%|█████▉    | 56/94 [00:03<00:02, 18.80it/s]"
     ]
    },
    {
     "name": "stdout",
     "output_type": "stream",
     "text": [
      "torch.Size([128, 2, 2])\n",
      "torch.Size([128, 2, 2])\n"
     ]
    },
    {
     "name": "stderr",
     "output_type": "stream",
     "text": [
      "\r",
      " 63%|██████▎   | 59/94 [00:03<00:01, 18.28it/s]"
     ]
    },
    {
     "name": "stdout",
     "output_type": "stream",
     "text": [
      "torch.Size([128, 2, 2])\n",
      "torch.Size([128, 2, 2])\n",
      "torch.Size([128, 2, 2])\n"
     ]
    },
    {
     "name": "stderr",
     "output_type": "stream",
     "text": [
      "\r",
      " 66%|██████▌   | 62/94 [00:03<00:01, 20.03it/s]"
     ]
    },
    {
     "name": "stdout",
     "output_type": "stream",
     "text": [
      "torch.Size([128, 2, 2])\n",
      "torch.Size([128, 2, 2])\n",
      "torch.Size([128, 2, 2])\n",
      "torch.Size([128, 2, 2])\n",
      "torch.Size([128, 2, 2])\n"
     ]
    },
    {
     "name": "stderr",
     "output_type": "stream",
     "text": [
      "\r",
      " 69%|██████▉   | 65/94 [00:03<00:01, 19.48it/s]"
     ]
    },
    {
     "name": "stdout",
     "output_type": "stream",
     "text": [
      "torch.Size([128, 2, 2])\n",
      "torch.Size([128, 2, 2])\n"
     ]
    },
    {
     "name": "stderr",
     "output_type": "stream",
     "text": [
      "\r",
      " 72%|███████▏  | 68/94 [00:03<00:01, 20.50it/s]"
     ]
    },
    {
     "name": "stdout",
     "output_type": "stream",
     "text": [
      "torch.Size([128, 2, 2])\n",
      "torch.Size([128, 2, 2])\n",
      "torch.Size([128, 2, 2])\n",
      "torch.Size([128, 2, 2])\n"
     ]
    },
    {
     "name": "stderr",
     "output_type": "stream",
     "text": [
      "\r",
      " 76%|███████▌  | 71/94 [00:03<00:01, 21.26it/s]"
     ]
    },
    {
     "name": "stdout",
     "output_type": "stream",
     "text": [
      "torch.Size([128, 2, 2])\n"
     ]
    },
    {
     "name": "stderr",
     "output_type": "stream",
     "text": [
      "\r",
      " 79%|███████▊  | 74/94 [00:03<00:00, 21.75it/s]"
     ]
    },
    {
     "name": "stdout",
     "output_type": "stream",
     "text": [
      "torch.Size([128, 2, 2])\n",
      "torch.Size([128, 2, 2])\n",
      "torch.Size([128, 2, 2])\n",
      "torch.Size([128, 2, 2])\n",
      "torch.Size([128, 2, 2])\n"
     ]
    },
    {
     "name": "stderr",
     "output_type": "stream",
     "text": [
      "\r",
      " 82%|████████▏ | 77/94 [00:04<00:00, 22.16it/s]"
     ]
    },
    {
     "name": "stdout",
     "output_type": "stream",
     "text": [
      "torch.Size([128, 2, 2])\n",
      "torch.Size([128, 2, 2])\n",
      "torch.Size([128, 2, 2])\n",
      "torch.Size([128, 2, 2])\n",
      "torch.Size([128, 2, 2])\n"
     ]
    },
    {
     "name": "stderr",
     "output_type": "stream",
     "text": [
      " 88%|████████▊ | 83/94 [00:04<00:00, 21.61it/s]"
     ]
    },
    {
     "name": "stdout",
     "output_type": "stream",
     "text": [
      "torch.Size([128, 2, 2])\n",
      "torch.Size([128, 2, 2])\n",
      "torch.Size([128, 2, 2])\n",
      "torch.Size([128, 2, 2])\n",
      "torch.Size([128, 2, 2])\n"
     ]
    },
    {
     "name": "stderr",
     "output_type": "stream",
     "text": [
      "\r",
      " 91%|█████████▏| 86/94 [00:04<00:00, 20.61it/s]"
     ]
    },
    {
     "name": "stdout",
     "output_type": "stream",
     "text": [
      "torch.Size([128, 2, 2])\n",
      "torch.Size([128, 2, 2])\n",
      "torch.Size([128, 2, 2])\n",
      "torch.Size([128, 2, 2])\n",
      "torch.Size([128, 2, 2])\n"
     ]
    },
    {
     "name": "stderr",
     "output_type": "stream",
     "text": [
      "\r",
      " 95%|█████████▍| 89/94 [00:04<00:00, 22.26it/s]"
     ]
    },
    {
     "name": "stdout",
     "output_type": "stream",
     "text": [
      "torch.Size([128, 2, 2])\n",
      "torch.Size([128, 2, 2])\n"
     ]
    },
    {
     "name": "stderr",
     "output_type": "stream",
     "text": [
      "\r",
      " 98%|█████████▊| 92/94 [00:04<00:00, 20.86it/s]"
     ]
    },
    {
     "name": "stdout",
     "output_type": "stream",
     "text": [
      "torch.Size([128, 2, 2])\n",
      "torch.Size([128, 2, 2])\n",
      "torch.Size([128, 2, 2])\n",
      "torch.Size([128, 2, 2])\n"
     ]
    },
    {
     "name": "stderr",
     "output_type": "stream",
     "text": [
      "100%|██████████| 94/94 [00:04<00:00, 19.45it/s]\n"
     ]
    }
   ],
   "source": [
    "def train():\n",
    "    BATCH_SIZE = 10\n",
    "    EPOCHS = 1\n",
    "    with open(\"model.log\", \"a\") as f:\n",
    "        for epoch in range(EPOCHS):\n",
    "            for i in tqdm(range(0,len(train_X), BATCH_SIZE)):\n",
    "                batch_X = train_X[i:i+BATCH_SIZE].view(-1,1,50,50)\n",
    "                batch_y = train_y[i:i+BATCH_SIZE]\n",
    "                \n",
    "                acc, loss = fwd_pass(batch_X, batch_y, train=True)\n",
    "                if i & 50 == 0:\n",
    "                    val_acc, val_loss = test(size=32)\n",
    "                    f.write(f\"{MODEL_NAME}, {round(time.time(),3)},{round(float(acc),2)},{round(float(loss),4)},{round(float(val_acc),2)},{round(float(val_loss),4)}\")\n",
    "\n",
    "train()"
   ]
  },
  {
   "cell_type": "code",
   "execution_count": null,
   "metadata": {},
   "outputs": [],
   "source": []
  }
 ],
 "metadata": {
  "kernelspec": {
   "display_name": "Python 3",
   "language": "python",
   "name": "python3"
  },
  "language_info": {
   "codemirror_mode": {
    "name": "ipython",
    "version": 3
   },
   "file_extension": ".py",
   "mimetype": "text/x-python",
   "name": "python",
   "nbconvert_exporter": "python",
   "pygments_lexer": "ipython3",
   "version": "3.8.5"
  }
 },
 "nbformat": 4,
 "nbformat_minor": 4
}
